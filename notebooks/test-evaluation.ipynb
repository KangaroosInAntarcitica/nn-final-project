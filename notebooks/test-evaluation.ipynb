{
 "cells": [
  {
   "cell_type": "code",
   "execution_count": 1,
   "id": "e30c6d9c",
   "metadata": {
    "_cell_guid": "b1076dfc-b9ad-4769-8c92-a6c4dae69d19",
    "_uuid": "8f2839f25d086af736a60e9eeb907d3b93b6e0e5",
    "execution": {
     "iopub.execute_input": "2022-04-21T20:45:41.886066Z",
     "iopub.status.busy": "2022-04-21T20:45:41.885227Z",
     "iopub.status.idle": "2022-04-21T20:45:53.107954Z",
     "shell.execute_reply": "2022-04-21T20:45:53.107276Z",
     "shell.execute_reply.started": "2022-04-21T20:29:18.773174Z"
    },
    "papermill": {
     "duration": 11.245012,
     "end_time": "2022-04-21T20:45:53.108114",
     "exception": false,
     "start_time": "2022-04-21T20:45:41.863102",
     "status": "completed"
    },
    "tags": []
   },
   "outputs": [
    {
     "name": "stdout",
     "output_type": "stream",
     "text": [
      "\u001b[33mWARNING: Running pip as the 'root' user can result in broken permissions and conflicting behaviour with the system package manager. It is recommended to use a virtual environment instead: https://pip.pypa.io/warnings/venv\u001b[0m\r\n"
     ]
    }
   ],
   "source": [
    "!pip install --quiet -U sentence-transformers"
   ]
  },
  {
   "cell_type": "code",
   "execution_count": 2,
   "id": "d80e1c87",
   "metadata": {
    "execution": {
     "iopub.execute_input": "2022-04-21T20:45:53.142017Z",
     "iopub.status.busy": "2022-04-21T20:45:53.137218Z",
     "iopub.status.idle": "2022-04-21T20:46:06.112422Z",
     "shell.execute_reply": "2022-04-21T20:46:06.111969Z",
     "shell.execute_reply.started": "2022-04-21T20:29:26.325442Z"
    },
    "papermill": {
     "duration": 12.992038,
     "end_time": "2022-04-21T20:46:06.112579",
     "exception": false,
     "start_time": "2022-04-21T20:45:53.120541",
     "status": "completed"
    },
    "tags": []
   },
   "outputs": [
    {
     "name": "stdout",
     "output_type": "stream",
     "text": [
      "--2022-04-21 20:45:53--  https://public.ukp.informatik.tu-darmstadt.de/reimers/sentence-transformers/datasets/quora-IR-dataset.zip\r\n",
      "Resolving public.ukp.informatik.tu-darmstadt.de (public.ukp.informatik.tu-darmstadt.de)... 130.83.167.186\r\n",
      "Connecting to public.ukp.informatik.tu-darmstadt.de (public.ukp.informatik.tu-darmstadt.de)|130.83.167.186|:443... connected.\r\n",
      "HTTP request sent, awaiting response... 200 OK\r\n",
      "Length: 93570055 (89M) [application/zip]\r\n",
      "Saving to: ‘quora-IR-dataset.zip’\r\n",
      "\r\n",
      "quora-IR-dataset.zi 100%[===================>]  89.24M  20.9MB/s    in 8.3s    \r\n",
      "\r\n",
      "2022-04-21 20:46:02 (10.8 MB/s) - ‘quora-IR-dataset.zip’ saved [93570055/93570055]\r\n",
      "\r\n",
      "Archive:  ./quora-IR-dataset.zip\r\n",
      "   creating: information-retrieval/\r\n",
      "  inflating: information-retrieval/corpus.tsv  \r\n",
      "  inflating: information-retrieval/dev-queries.tsv  \r\n",
      "  inflating: information-retrieval/test-queries.tsv  \r\n",
      "  inflating: quora_duplicate_questions.tsv  \r\n",
      "   creating: classification/\r\n",
      "  inflating: classification/dev_pairs.tsv  \r\n",
      "  inflating: classification/test_pairs.tsv  \r\n",
      "  inflating: classification/train_pairs.tsv  \r\n",
      "   creating: duplicate-mining/\r\n",
      "  inflating: duplicate-mining/dev_corpus.tsv  \r\n",
      "  inflating: duplicate-mining/dev_duplicates.tsv  \r\n",
      "  inflating: duplicate-mining/test_corpus.tsv  \r\n",
      "  inflating: duplicate-mining/test_duplicates.tsv  \r\n",
      "  inflating: duplicate-mining/train_corpus.tsv  \r\n",
      "  inflating: duplicate-mining/train_duplicates.tsv  \r\n",
      "   creating: graph/\r\n",
      "  inflating: graph/dev-questions.tsv  \r\n",
      "  inflating: graph/duplicates-graph-connected-nodes.tsv  \r\n",
      "  inflating: graph/duplicates-graph-list.tsv  \r\n",
      "  inflating: graph/duplicates-graph-pairwise.tsv  \r\n",
      "  inflating: graph/sentences.tsv     \r\n",
      "  inflating: graph/test-questions.tsv  \r\n",
      "  inflating: graph/train-questions.tsv  \r\n"
     ]
    }
   ],
   "source": [
    "# Dowloading split dataset\n",
    "! wget https://public.ukp.informatik.tu-darmstadt.de/reimers/sentence-transformers/datasets/quora-IR-dataset.zip\n",
    "! unzip ./quora-IR-dataset.zip"
   ]
  },
  {
   "cell_type": "code",
   "execution_count": 3,
   "id": "18a1b0cf",
   "metadata": {
    "execution": {
     "iopub.execute_input": "2022-04-21T20:46:06.182610Z",
     "iopub.status.busy": "2022-04-21T20:46:06.181684Z",
     "iopub.status.idle": "2022-04-21T20:46:13.307000Z",
     "shell.execute_reply": "2022-04-21T20:46:13.307467Z",
     "shell.execute_reply.started": "2022-04-21T20:32:21.509065Z"
    },
    "papermill": {
     "duration": 7.164243,
     "end_time": "2022-04-21T20:46:13.307687",
     "exception": false,
     "start_time": "2022-04-21T20:46:06.143444",
     "status": "completed"
    },
    "tags": []
   },
   "outputs": [],
   "source": [
    "import os\n",
    "from datetime import datetime\n",
    "import csv\n",
    "import random\n",
    "import numpy as np\n",
    "import pandas as pd\n",
    "import torch\n",
    "from sentence_transformers import SentenceTransformer, evaluation\n",
    "from sentence_transformers.cross_encoder.evaluation import CEBinaryClassificationEvaluator\n",
    "from sentence_transformers.readers import InputExample\n",
    "from sentence_transformers.cross_encoder import CrossEncoder\n",
    "\n",
    "os.environ['CUDA_LAUNCH_BLOCKING'] = \"1\"\n",
    "\n",
    "\n",
    "# setting seed\n",
    "random.seed(42)\n",
    "os.environ['PYTHONHASHSEED'] = str(42)\n",
    "np.random.seed(42)\n",
    "torch.manual_seed(42)\n",
    "torch.cuda.manual_seed(42)\n",
    "torch.backends.cudnn.deterministic = True\n",
    "torch.backends.cudnn.benchmark = True"
   ]
  },
  {
   "cell_type": "markdown",
   "id": "ac2ca315",
   "metadata": {
    "papermill": {
     "duration": 0.027368,
     "end_time": "2022-04-21T20:46:13.362863",
     "exception": false,
     "start_time": "2022-04-21T20:46:13.335495",
     "status": "completed"
    },
    "tags": []
   },
   "source": [
    "## Evaluating SBERT models"
   ]
  },
  {
   "cell_type": "code",
   "execution_count": 4,
   "id": "d3fad48a",
   "metadata": {
    "execution": {
     "iopub.execute_input": "2022-04-21T20:46:13.424523Z",
     "iopub.status.busy": "2022-04-21T20:46:13.422921Z",
     "iopub.status.idle": "2022-04-21T20:46:13.425096Z",
     "shell.execute_reply": "2022-04-21T20:46:13.425514Z",
     "shell.execute_reply.started": "2022-04-21T20:29:59.174203Z"
    },
    "papermill": {
     "duration": 0.035048,
     "end_time": "2022-04-21T20:46:13.425651",
     "exception": false,
     "start_time": "2022-04-21T20:46:13.390603",
     "status": "completed"
    },
    "tags": []
   },
   "outputs": [],
   "source": [
    "# test_sentences1 = []\n",
    "# test_sentences2 = []\n",
    "# test_labels = []\n",
    "# with open(\"classification/test_pairs.tsv\", encoding='utf8') as fIn:\n",
    "#     reader = csv.DictReader(fIn, delimiter='\\t', quoting=csv.QUOTE_NONE)\n",
    "#     for row in reader:\n",
    "#         test_sentences1.append(row['question1'])\n",
    "#         test_sentences2.append(row['question2'])\n",
    "#         test_labels.append(int(row['is_duplicate']))\n",
    "        \n",
    "# evaluator = evaluation.BinaryClassificationEvaluator(test_sentences1, test_sentences2, test_labels, \n",
    "#                                                      batch_size=32, \n",
    "#                                                      write_csv=True, \n",
    "#                                                      show_progress_bar=True)"
   ]
  },
  {
   "cell_type": "code",
   "execution_count": 5,
   "id": "65a2bf94",
   "metadata": {
    "execution": {
     "iopub.execute_input": "2022-04-21T20:46:13.485094Z",
     "iopub.status.busy": "2022-04-21T20:46:13.484314Z",
     "iopub.status.idle": "2022-04-21T20:46:13.487008Z",
     "shell.execute_reply": "2022-04-21T20:46:13.486536Z",
     "shell.execute_reply.started": "2022-04-21T20:29:59.413272Z"
    },
    "papermill": {
     "duration": 0.033295,
     "end_time": "2022-04-21T20:46:13.487120",
     "exception": false,
     "start_time": "2022-04-21T20:46:13.453825",
     "status": "completed"
    },
    "tags": []
   },
   "outputs": [],
   "source": [
    "# # model_name = \"../input/qqp-sbert-base/output/sbert_base_mnr_16\" # base SBERT model\n",
    "# # model_name = \"../input/aug-sbert-stsb/output/sbert_stsb_mnr_16\" # stsb cross-encoder + SBERT model\n",
    "# model_name = \"../input/qqp-sbert-custom/output/sbert_custom_mnr_16\" # quora cross-encoder + SBERT model\n",
    "\n",
    "# model = SentenceTransformer(model_name)\n",
    "\n",
    "# model.evaluate(evaluator, output_path='sbert_quora_eval')"
   ]
  },
  {
   "cell_type": "code",
   "execution_count": 6,
   "id": "2e49d244",
   "metadata": {
    "execution": {
     "iopub.execute_input": "2022-04-21T20:46:13.546719Z",
     "iopub.status.busy": "2022-04-21T20:46:13.546133Z",
     "iopub.status.idle": "2022-04-21T20:46:13.549383Z",
     "shell.execute_reply": "2022-04-21T20:46:13.549824Z",
     "shell.execute_reply.started": "2022-04-21T20:29:59.523859Z"
    },
    "papermill": {
     "duration": 0.034605,
     "end_time": "2022-04-21T20:46:13.549951",
     "exception": false,
     "start_time": "2022-04-21T20:46:13.515346",
     "status": "completed"
    },
    "tags": []
   },
   "outputs": [],
   "source": [
    "# eval_df = pd.read_csv('base_sbert_eval/binary_classification_evaluation_results.csv')\n",
    "# eval_df"
   ]
  },
  {
   "cell_type": "markdown",
   "id": "1371293f",
   "metadata": {
    "papermill": {
     "duration": 0.027534,
     "end_time": "2022-04-21T20:46:13.605385",
     "exception": false,
     "start_time": "2022-04-21T20:46:13.577851",
     "status": "completed"
    },
    "tags": []
   },
   "source": [
    "## Evaluating cross-encoder model"
   ]
  },
  {
   "cell_type": "code",
   "execution_count": 7,
   "id": "aa18269c",
   "metadata": {
    "execution": {
     "iopub.execute_input": "2022-04-21T20:46:13.927955Z",
     "iopub.status.busy": "2022-04-21T20:46:13.665362Z",
     "iopub.status.idle": "2022-04-21T20:46:14.828467Z",
     "shell.execute_reply": "2022-04-21T20:46:14.827938Z",
     "shell.execute_reply.started": "2022-04-21T20:30:00.497847Z"
    },
    "papermill": {
     "duration": 1.195263,
     "end_time": "2022-04-21T20:46:14.828598",
     "exception": false,
     "start_time": "2022-04-21T20:46:13.633335",
     "status": "completed"
    },
    "tags": []
   },
   "outputs": [],
   "source": [
    "test_samples = []\n",
    "with open('classification/test_pairs.tsv', encoding='utf8') as fIn:\n",
    "    reader = csv.DictReader(fIn, delimiter='\\t', quoting=csv.QUOTE_NONE)\n",
    "    for row in reader:\n",
    "        sample = InputExample(texts=[row['question1'], row['question2']], label=int(row['is_duplicate']))\n",
    "        test_samples.append(sample)\n",
    "        \n",
    "test_evaluator = CEBinaryClassificationEvaluator.from_input_examples(test_samples)"
   ]
  },
  {
   "cell_type": "code",
   "execution_count": 8,
   "id": "8ba078e0",
   "metadata": {
    "execution": {
     "iopub.execute_input": "2022-04-21T20:46:14.891825Z",
     "iopub.status.busy": "2022-04-21T20:46:14.891244Z",
     "iopub.status.idle": "2022-04-21T20:48:22.061998Z",
     "shell.execute_reply": "2022-04-21T20:48:22.062456Z",
     "shell.execute_reply.started": "2022-04-21T20:35:43.044757Z"
    },
    "papermill": {
     "duration": 127.204801,
     "end_time": "2022-04-21T20:48:22.062616",
     "exception": false,
     "start_time": "2022-04-21T20:46:14.857815",
     "status": "completed"
    },
    "tags": []
   },
   "outputs": [
    {
     "data": {
      "text/plain": [
       "0.8788630974325571"
      ]
     },
     "execution_count": 8,
     "metadata": {},
     "output_type": "execute_result"
    }
   ],
   "source": [
    "model = CrossEncoder('../input/qqp-cross-base/output/cross_base_mnr_16')\n",
    "test_evaluator(model, output_path='')"
   ]
  },
  {
   "cell_type": "code",
   "execution_count": 9,
   "id": "a3d7dc9d",
   "metadata": {
    "execution": {
     "iopub.execute_input": "2022-04-21T20:48:22.124850Z",
     "iopub.status.busy": "2022-04-21T20:48:22.124017Z",
     "iopub.status.idle": "2022-04-21T20:48:22.143405Z",
     "shell.execute_reply": "2022-04-21T20:48:22.143928Z",
     "shell.execute_reply.started": "2022-04-21T20:38:20.746346Z"
    },
    "papermill": {
     "duration": 0.052772,
     "end_time": "2022-04-21T20:48:22.144069",
     "exception": false,
     "start_time": "2022-04-21T20:48:22.091297",
     "status": "completed"
    },
    "tags": []
   },
   "outputs": [
    {
     "data": {
      "text/html": [
       "<div>\n",
       "<style scoped>\n",
       "    .dataframe tbody tr th:only-of-type {\n",
       "        vertical-align: middle;\n",
       "    }\n",
       "\n",
       "    .dataframe tbody tr th {\n",
       "        vertical-align: top;\n",
       "    }\n",
       "\n",
       "    .dataframe thead th {\n",
       "        text-align: right;\n",
       "    }\n",
       "</style>\n",
       "<table border=\"1\" class=\"dataframe\">\n",
       "  <thead>\n",
       "    <tr style=\"text-align: right;\">\n",
       "      <th></th>\n",
       "      <th>epoch</th>\n",
       "      <th>steps</th>\n",
       "      <th>Accuracy</th>\n",
       "      <th>Accuracy_Threshold</th>\n",
       "      <th>F1</th>\n",
       "      <th>F1_Threshold</th>\n",
       "      <th>Precision</th>\n",
       "      <th>Recall</th>\n",
       "      <th>Average_Precision</th>\n",
       "    </tr>\n",
       "  </thead>\n",
       "  <tbody>\n",
       "    <tr>\n",
       "      <th>0</th>\n",
       "      <td>-1</td>\n",
       "      <td>-1</td>\n",
       "      <td>0.849923</td>\n",
       "      <td>0.208017</td>\n",
       "      <td>0.822477</td>\n",
       "      <td>0.114806</td>\n",
       "      <td>0.770956</td>\n",
       "      <td>0.881376</td>\n",
       "      <td>0.878863</td>\n",
       "    </tr>\n",
       "  </tbody>\n",
       "</table>\n",
       "</div>"
      ],
      "text/plain": [
       "   epoch  steps  Accuracy  Accuracy_Threshold        F1  F1_Threshold  \\\n",
       "0     -1     -1  0.849923            0.208017  0.822477      0.114806   \n",
       "\n",
       "   Precision    Recall  Average_Precision  \n",
       "0   0.770956  0.881376           0.878863  "
      ]
     },
     "execution_count": 9,
     "metadata": {},
     "output_type": "execute_result"
    }
   ],
   "source": [
    "eval_df = pd.read_csv('CEBinaryClassificationEvaluator_results.csv')\n",
    "eval_df"
   ]
  },
  {
   "cell_type": "code",
   "execution_count": null,
   "id": "9941a621",
   "metadata": {
    "papermill": {
     "duration": 0.028384,
     "end_time": "2022-04-21T20:48:22.201111",
     "exception": false,
     "start_time": "2022-04-21T20:48:22.172727",
     "status": "completed"
    },
    "tags": []
   },
   "outputs": [],
   "source": []
  }
 ],
 "metadata": {
  "kernelspec": {
   "display_name": "Python 3",
   "language": "python",
   "name": "python3"
  },
  "language_info": {
   "codemirror_mode": {
    "name": "ipython",
    "version": 3
   },
   "file_extension": ".py",
   "mimetype": "text/x-python",
   "name": "python",
   "nbconvert_exporter": "python",
   "pygments_lexer": "ipython3",
   "version": "3.7.12"
  },
  "papermill": {
   "default_parameters": {},
   "duration": 172.372706,
   "end_time": "2022-04-21T20:48:25.609812",
   "environment_variables": {},
   "exception": null,
   "input_path": "__notebook__.ipynb",
   "output_path": "__notebook__.ipynb",
   "parameters": {},
   "start_time": "2022-04-21T20:45:33.237106",
   "version": "2.3.3"
  }
 },
 "nbformat": 4,
 "nbformat_minor": 5
}
